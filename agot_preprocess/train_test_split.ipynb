{
  "nbformat": 4,
  "nbformat_minor": 0,
  "metadata": {
    "kernelspec": {
      "display_name": "Python 3",
      "language": "python",
      "name": "python3"
    },
    "language_info": {
      "codemirror_mode": {
        "name": "ipython",
        "version": 3
      },
      "file_extension": ".py",
      "mimetype": "text/x-python",
      "name": "python",
      "nbconvert_exporter": "python",
      "pygments_lexer": "ipython3",
      "version": "3.6.5"
    },
    "colab": {
      "name": "train_test_split.ipynb",
      "provenance": [],
      "collapsed_sections": [
        "o6Flf-0rFHyv",
        "S9-fkJjQNfQ9",
        "27_rlal-0a38"
      ],
      "toc_visible": true
    }
  },
  "cells": [
    {
      "cell_type": "code",
      "metadata": {
        "id": "JMSvnOgqG5UN",
        "outputId": "2b728a13-7dec-4288-9d3a-21f1db407e79",
        "colab": {
          "base_uri": "https://localhost:8080/"
        }
      },
      "source": [
        "from google.colab import drive\n",
        "drive.mount('/content/gdrive', force_remount=True)"
      ],
      "execution_count": 1,
      "outputs": [
        {
          "output_type": "stream",
          "text": [
            "Mounted at /content/gdrive\n"
          ],
          "name": "stdout"
        }
      ]
    },
    {
      "cell_type": "code",
      "metadata": {
        "id": "f_bRGu4bNEuO"
      },
      "source": [
        "!cp \"gdrive/My Drive/project/preprocess_codes/video_preprocessing_functions.py\" ."
      ],
      "execution_count": 13,
      "outputs": []
    },
    {
      "cell_type": "code",
      "metadata": {
        "id": "Xv09MUDzFHyw"
      },
      "source": [
        "import os\n",
        "import pdb\n",
        "from video_preprocessing_functions import *  # import all needed functions"
      ],
      "execution_count": 14,
      "outputs": []
    },
    {
      "cell_type": "code",
      "metadata": {
        "id": "jsdlzUqxHRp6"
      },
      "source": [
        "mypath = \"/content/gdrive/My Drive/project/\"\n",
        "agotpath = mypath + \"agot_data/\"\n",
        "funspath = mypath + \"preprocess_codes/\"\n",
        "list_root = agotpath + 'agot-24/splitfiles/' \n",
        "label_path = agotpath + 'agot-24/labels/'\n",
        "testlist_path = agotpath + 'agot-24/testlist.txt'\n",
        "gt_path = agotpath + 'groundtruths_agot/'"
      ],
      "execution_count": 47,
      "outputs": []
    },
    {
      "cell_type": "code",
      "metadata": {
        "id": "5Oq5hbfJ_mfm"
      },
      "source": [
        "!find /content/gdrive/My\\ Drive/project/agot_data/agot-24/ -name 'Icon' -print -delete  # remove all hidden files\n",
        "!find /content/gdrive/My\\ Drive/project/agot_data/agot-24/ -name '.ipynb_checkpoints' -print -delete  # remove all hidden files"
      ],
      "execution_count": 39,
      "outputs": []
    },
    {
      "cell_type": "code",
      "metadata": {
        "id": "fLdM9QfACGpi",
        "outputId": "060f39d7-5a00-4b20-82fa-0219eb47ae25",
        "colab": {
          "base_uri": "https://localhost:8080/"
        }
      },
      "source": [
        "!ls -a /content/gdrive/My\\ Drive/project/agot_data/agot-24/"
      ],
      "execution_count": 45,
      "outputs": [
        {
          "output_type": "stream",
          "text": [
            "labels\t    testlist01.txt  trainlist01.txt\n",
            "rgb-images  testlist.txt    trainlist.txt\n"
          ],
          "name": "stdout"
        }
      ]
    },
    {
      "cell_type": "markdown",
      "metadata": {
        "id": "o6Flf-0rFHyv"
      },
      "source": [
        "## Building train/test lists\n",
        "\n"
      ]
    },
    {
      "cell_type": "code",
      "metadata": {
        "id": "8n2wT3DcQ8tO"
      },
      "source": [
        "train_ratio = 0.8\n",
        "N = 24 # only use top N classes with highest number of clips"
      ],
      "execution_count": 6,
      "outputs": []
    },
    {
      "cell_type": "code",
      "metadata": {
        "id": "1VW_xHcoFHzI",
        "outputId": "761d46cf-48a6-4594-e996-e55dd1e85a7f",
        "colab": {
          "base_uri": "https://localhost:8080/",
          "height": 1000
        }
      },
      "source": [
        "cutoff = get_Nclasses_cutoff(label_path, N)\n",
        "build_clipref_list(label_path, list_root, cutoff)\n",
        "build_labelref_list(label_path, list_root, cutoff)"
      ],
      "execution_count": null,
      "outputs": [
        {
          "output_type": "stream",
          "text": [
            "Pick up sauce:\n",
            "total clips: 52\n",
            "training clips: 41\n",
            "testing clips: 11\n",
            "===========================\n",
            "Squirt sauce:\n",
            "total clips: 31\n",
            "training clips: 24\n",
            "testing clips: 7\n",
            "===========================\n",
            "Pickup cut roll from roll machine:\n",
            "total clips: 29\n",
            "training clips: 23\n",
            "testing clips: 6\n",
            "===========================\n",
            "Place cut roll into boat:\n",
            "total clips: 30\n",
            "training clips: 24\n",
            "testing clips: 6\n",
            "===========================\n",
            "Put roll into roll cut machine:\n",
            "total clips: 30\n",
            "training clips: 24\n",
            "testing clips: 6\n",
            "===========================\n",
            "Pick up from bin with hands:\n",
            "total clips: 55\n",
            "training clips: 44\n",
            "testing clips: 11\n",
            "===========================\n",
            "Pick up from bin with tong or scooper:\n",
            "total clips: 149\n",
            "training clips: 119\n",
            "testing clips: 30\n",
            "===========================\n",
            "Put tongs or scooper back in bin:\n",
            "total clips: 89\n",
            "training clips: 71\n",
            "testing clips: 18\n",
            "===========================\n",
            "Operating sushi roll cutter:\n",
            "total clips: 28\n",
            "training clips: 22\n",
            "testing clips: 6\n",
            "===========================\n",
            "Pick up a drink:\n",
            "total clips: 22\n",
            "training clips: 17\n",
            "testing clips: 5\n",
            "===========================\n",
            "Roll a sushi roll:\n",
            "total clips: 25\n",
            "training clips: 20\n",
            "testing clips: 5\n",
            "===========================\n",
            "Clean counter:\n",
            "total clips: 36\n",
            "training clips: 28\n",
            "testing clips: 8\n",
            "===========================\n",
            "Put lid on roll:\n",
            "total clips: 15\n",
            "training clips: 12\n",
            "testing clips: 3\n",
            "===========================\n",
            "Handing credit card:\n",
            "total clips: 18\n",
            "training clips: 14\n",
            "testing clips: 4\n",
            "===========================\n",
            "Inserting chip of credit card:\n",
            "total clips: 10\n",
            "training clips: 8\n",
            "testing clips: 2\n",
            "===========================\n",
            "Operating fivestar:\n",
            "total clips: 12\n",
            "training clips: 9\n",
            "testing clips: 3\n",
            "===========================\n",
            "Operating POS:\n",
            "total clips: 74\n",
            "training clips: 59\n",
            "testing clips: 15\n",
            "===========================\n",
            "Using a cell phone:\n",
            "total clips: 10\n",
            "training clips: 8\n",
            "testing clips: 2\n",
            "===========================\n",
            "Put item into meal using tongs:\n",
            "total clips: 136\n",
            "training clips: 108\n",
            "testing clips: 28\n",
            "===========================\n",
            "Put item into meal using hands:\n",
            "total clips: 66\n",
            "training clips: 52\n",
            "testing clips: 14\n",
            "===========================\n",
            "Put drink down:\n",
            "total clips: 14\n",
            "training clips: 11\n",
            "testing clips: 3\n",
            "===========================\n",
            "Put gloves on:\n",
            "total clips: 20\n",
            "training clips: 16\n",
            "testing clips: 4\n",
            "===========================\n",
            "Put sauce down:\n",
            "total clips: 41\n",
            "training clips: 32\n",
            "testing clips: 9\n",
            "===========================\n",
            "Hand item to customer:\n",
            "total clips: 21\n",
            "training clips: 16\n",
            "testing clips: 5\n",
            "===========================\n",
            "Pick up sauce:\n",
            "total clips: 52\n",
            "training clips: 41\n",
            "testing clips: 11\n",
            "===========================\n",
            "Squirt sauce:\n",
            "total clips: 31\n",
            "training clips: 24\n",
            "testing clips: 7\n",
            "===========================\n",
            "Pickup cut roll from roll machine:\n",
            "total clips: 29\n",
            "training clips: 23\n",
            "testing clips: 6\n",
            "===========================\n",
            "Place cut roll into boat:\n",
            "total clips: 30\n",
            "training clips: 24\n",
            "testing clips: 6\n",
            "===========================\n",
            "Put roll into roll cut machine:\n",
            "total clips: 30\n",
            "training clips: 24\n",
            "testing clips: 6\n",
            "===========================\n",
            "Pick up from bin with hands:\n",
            "total clips: 55\n",
            "training clips: 44\n",
            "testing clips: 11\n",
            "===========================\n",
            "Pick up from bin with tong or scooper:\n",
            "total clips: 149\n",
            "training clips: 119\n",
            "testing clips: 30\n",
            "===========================\n",
            "Put tongs or scooper back in bin:\n",
            "total clips: 89\n",
            "training clips: 71\n",
            "testing clips: 18\n",
            "===========================\n",
            "Operating sushi roll cutter:\n",
            "total clips: 28\n",
            "training clips: 22\n",
            "testing clips: 6\n",
            "===========================\n",
            "Pick up a drink:\n",
            "total clips: 22\n",
            "training clips: 17\n",
            "testing clips: 5\n",
            "===========================\n",
            "Roll a sushi roll:\n",
            "total clips: 25\n",
            "training clips: 20\n",
            "testing clips: 5\n",
            "===========================\n",
            "Clean counter:\n",
            "total clips: 36\n",
            "training clips: 28\n",
            "testing clips: 8\n",
            "===========================\n",
            "Put lid on roll:\n",
            "total clips: 15\n",
            "training clips: 12\n",
            "testing clips: 3\n",
            "===========================\n",
            "Handing credit card:\n",
            "total clips: 18\n",
            "training clips: 14\n",
            "testing clips: 4\n",
            "===========================\n",
            "Inserting chip of credit card:\n",
            "total clips: 10\n",
            "training clips: 8\n",
            "testing clips: 2\n",
            "===========================\n",
            "Operating fivestar:\n",
            "total clips: 12\n",
            "training clips: 9\n",
            "testing clips: 3\n",
            "===========================\n",
            "Operating POS:\n",
            "total clips: 74\n",
            "training clips: 59\n",
            "testing clips: 15\n",
            "===========================\n",
            "Using a cell phone:\n",
            "total clips: 10\n",
            "training clips: 8\n",
            "testing clips: 2\n",
            "===========================\n",
            "Put item into meal using tongs:\n",
            "total clips: 136\n",
            "training clips: 108\n",
            "testing clips: 28\n",
            "===========================\n",
            "Put item into meal using hands:\n",
            "total clips: 66\n",
            "training clips: 52\n",
            "testing clips: 14\n",
            "===========================\n",
            "Put drink down:\n",
            "total clips: 14\n",
            "training clips: 11\n",
            "testing clips: 3\n",
            "===========================\n",
            "Put gloves on:\n",
            "total clips: 20\n",
            "training clips: 16\n",
            "testing clips: 4\n",
            "===========================\n",
            "Put sauce down:\n",
            "total clips: 41\n",
            "training clips: 32\n",
            "testing clips: 9\n",
            "===========================\n",
            "Hand item to customer:\n",
            "total clips: 21\n",
            "training clips: 16\n",
            "testing clips: 5\n",
            "===========================\n"
          ],
          "name": "stdout"
        }
      ]
    },
    {
      "cell_type": "markdown",
      "metadata": {
        "id": "S9-fkJjQNfQ9"
      },
      "source": [
        "## Create Agot groundtruths folder"
      ]
    },
    {
      "cell_type": "code",
      "metadata": {
        "id": "EhablxqX0jJv",
        "outputId": "99b20710-2942-441d-e941-960e45d712d6",
        "colab": {
          "base_uri": "https://localhost:8080/"
        }
      },
      "source": [
        "gen_groundtruth_folder(testlist_path, label_path, gt_path)"
      ],
      "execution_count": null,
      "outputs": [
        {
          "output_type": "stream",
          "text": [
            "len of testlist: 22273\n",
            "processing row 0\n",
            "processing row 1000\n",
            "processing row 2000\n",
            "processing row 3000\n",
            "processing row 4000\n",
            "processing row 5000\n",
            "processing row 6000\n",
            "processing row 7000\n",
            "processing row 8000\n",
            "processing row 9000\n",
            "processing row 10000\n",
            "processing row 11000\n",
            "processing row 12000\n",
            "processing row 13000\n",
            "processing row 14000\n",
            "processing row 15000\n",
            "processing row 16000\n",
            "processing row 17000\n",
            "processing row 18000\n",
            "processing row 19000\n",
            "processing row 20000\n",
            "processing row 21000\n",
            "processing row 22000\n"
          ],
          "name": "stdout"
        }
      ]
    },
    {
      "cell_type": "code",
      "metadata": {
        "id": "60dgCvaQ3doU"
      },
      "source": [
        "!zip -r groundtruths_agot.zip /content/gdrive/My\\ Drive/project/agot_data/groundtruths_agot"
      ],
      "execution_count": null,
      "outputs": []
    },
    {
      "cell_type": "code",
      "metadata": {
        "id": "uhdv-UNo3_x_"
      },
      "source": [
        "!cp -r groundtruths_agot.zip /content/gdrive/My\\ Drive/project/agot_data/"
      ],
      "execution_count": null,
      "outputs": []
    },
    {
      "cell_type": "markdown",
      "metadata": {
        "id": "27_rlal-0a38"
      },
      "source": [
        "## Data visualization"
      ]
    },
    {
      "cell_type": "code",
      "metadata": {
        "id": "ASuW7cfeRE3P"
      },
      "source": [
        "import pandas as pd"
      ],
      "execution_count": null,
      "outputs": []
    },
    {
      "cell_type": "code",
      "metadata": {
        "id": "60ZxLmt_Nl5A"
      },
      "source": [
        "num_clips, labels = get_num_clips(label_path)"
      ],
      "execution_count": null,
      "outputs": []
    },
    {
      "cell_type": "code",
      "metadata": {
        "id": "lOGVOHWvRGJ_"
      },
      "source": [
        "df = pd.DataFrame()\n",
        "df['labels']  = labels\n",
        "df['clips'] = num_clips\n",
        "df = df.sort_values(by=['clips'], ascending=False)\n",
        "df['id'] = range(1, len(labels)+1)"
      ],
      "execution_count": null,
      "outputs": []
    },
    {
      "cell_type": "code",
      "metadata": {
        "id": "02k3wuw0pCTA"
      },
      "source": [
        "df.to_csv(agotpath+\"agot_stat.csv\", index=False)"
      ],
      "execution_count": null,
      "outputs": []
    },
    {
      "cell_type": "markdown",
      "metadata": {
        "id": "cEjE04cQmLYV"
      },
      "source": [
        "### add statistics of frames / clips - upload to github"
      ]
    },
    {
      "cell_type": "code",
      "metadata": {
        "id": "A2QHYFEPTnTr",
        "outputId": "0ce7e9fe-db11-4828-bf3a-bf3993240580",
        "colab": {
          "base_uri": "https://localhost:8080/",
          "height": 195
        }
      },
      "source": [
        "df.head()"
      ],
      "execution_count": null,
      "outputs": [
        {
          "output_type": "execute_result",
          "data": {
            "text/html": [
              "<div>\n",
              "<style scoped>\n",
              "    .dataframe tbody tr th:only-of-type {\n",
              "        vertical-align: middle;\n",
              "    }\n",
              "\n",
              "    .dataframe tbody tr th {\n",
              "        vertical-align: top;\n",
              "    }\n",
              "\n",
              "    .dataframe thead th {\n",
              "        text-align: right;\n",
              "    }\n",
              "</style>\n",
              "<table border=\"1\" class=\"dataframe\">\n",
              "  <thead>\n",
              "    <tr style=\"text-align: right;\">\n",
              "      <th></th>\n",
              "      <th>labels</th>\n",
              "      <th>clips</th>\n",
              "      <th>id</th>\n",
              "    </tr>\n",
              "  </thead>\n",
              "  <tbody>\n",
              "    <tr>\n",
              "      <th>6</th>\n",
              "      <td>Pick up from bin with tong or scooper</td>\n",
              "      <td>149</td>\n",
              "      <td>1</td>\n",
              "    </tr>\n",
              "    <tr>\n",
              "      <th>32</th>\n",
              "      <td>Put item into meal using tongs</td>\n",
              "      <td>136</td>\n",
              "      <td>2</td>\n",
              "    </tr>\n",
              "    <tr>\n",
              "      <th>7</th>\n",
              "      <td>Put tongs or scooper back in bin</td>\n",
              "      <td>89</td>\n",
              "      <td>3</td>\n",
              "    </tr>\n",
              "    <tr>\n",
              "      <th>29</th>\n",
              "      <td>Operating POS</td>\n",
              "      <td>74</td>\n",
              "      <td>4</td>\n",
              "    </tr>\n",
              "    <tr>\n",
              "      <th>33</th>\n",
              "      <td>Put item into meal using hands</td>\n",
              "      <td>66</td>\n",
              "      <td>5</td>\n",
              "    </tr>\n",
              "  </tbody>\n",
              "</table>\n",
              "</div>"
            ],
            "text/plain": [
              "                                   labels  clips  id\n",
              "6   Pick up from bin with tong or scooper    149   1\n",
              "32         Put item into meal using tongs    136   2\n",
              "7        Put tongs or scooper back in bin     89   3\n",
              "29                          Operating POS     74   4\n",
              "33         Put item into meal using hands     66   5"
            ]
          },
          "metadata": {
            "tags": []
          },
          "execution_count": 13
        }
      ]
    },
    {
      "cell_type": "code",
      "metadata": {
        "id": "V1olsT13UySC"
      },
      "source": [
        "import matplotlib.pyplot as plt\n",
        "%matplotlib inline\n",
        "# print(plt.style.available)"
      ],
      "execution_count": null,
      "outputs": []
    },
    {
      "cell_type": "code",
      "metadata": {
        "id": "6wK2nYPKW-Vx",
        "outputId": "8a4ad186-8a11-44b3-fe9f-e03221def111",
        "colab": {
          "base_uri": "https://localhost:8080/",
          "height": 291
        }
      },
      "source": [
        "plt.style.use('seaborn-white')\n",
        "plt.bar(df['id'], df['clips'], color='tab:blue')\n",
        "plt.xlabel(\"Action index\")\n",
        "plt.ylabel(\"Number of clips\")\n",
        "plt.xlim(0, 40)\n",
        "plt.savefig(agotpath+'agot_hist.pdf') "
      ],
      "execution_count": null,
      "outputs": [
        {
          "output_type": "display_data",
          "data": {
            "image/png": "[encoded data removed]",
            "text/plain": [
              "<Figure size 432x288 with 1 Axes>"
            ]
          },
          "metadata": {
            "tags": []
          }
        }
      ]
    },
    {
      "cell_type": "code",
      "metadata": {
        "id": "h9rBIYDJYqoJ",
        "outputId": "b8f125c9-17e5-4dae-bc53-099b3830e2da",
        "colab": {
          "base_uri": "https://localhost:8080/",
          "height": 1000
        }
      },
      "source": [
        "!zip -r agot24.zip \"/content/gdrive/My Drive/project/agot_data/agot-24\""
      ],
      "execution_count": null,
      "outputs": [
        {
          "output_type": "stream",
          "text": [
            "Scanning files ............................................................................. .................\n",
            "  adding: content/gdrive/My Drive/project/agot_data/agot-24/ (stored 0%)\n",
            "  adding: content/gdrive/My Drive/project/agot_data/agot-24/labels/ (stored 0%)\n",
            "  adding: content/gdrive/My Drive/project/agot_data/agot-24/labels/Pick up sauce/ (stored 0%)\n",
            "  adding: content/gdrive/My Drive/project/agot_data/agot-24/labels/Pick up sauce/g_00020_c_00001/ (stored 0%)\n",
            "  adding: content/gdrive/My Drive/project/agot_data/agot-24/labels/Pick up sauce/g_00020_c_00001/00001.txt (stored 0%)\n",
            "  adding: content/gdrive/My Drive/project/agot_data/agot-24/labels/Pick up sauce/g_00020_c_00001/00002.txt (stored 0%)\n",
            "  adding: content/gdrive/My Drive/project/agot_data/agot-24/labels/Pick up sauce/g_00020_c_00001/00003.txt (stored 0%)\n",
            "  adding: content/gdrive/My Drive/project/agot_data/agot-24/labels/Pick up sauce/g_00020_c_00001/00004.txt (stored 0%)\n",
            "  adding: content/gdrive/My Drive/project/agot_data/agot-24/labels/Pick up sauce/g_00020_c_00001/00005.txt (stored 0%)\n",
            "  adding: content/gdrive/My Drive/project/agot_data/agot-24/labels/Pick up sauce/g_00020_c_00001/00006.txt (stored 0%)\n",
            "  adding: content/gdrive/My Drive/project/agot_data/agot-24/labels/Pick up sauce/g_00020_c_00001/00007.txt (stored 0%)\n",
            "  adding: content/gdrive/My Drive/project/agot_data/agot-24/labels/Pick up sauce/g_00020_c_00001/00008.txt (stored 0%)\n",
            "  adding: content/gdrive/My Drive/project/agot_data/agot-24/labels/Pick up sauce/g_00020_c_00001/00009.txt (stored 0%)\n",
            "  adding: content/gdrive/My Drive/project/agot_data/agot-24/labels/Pick up sauce/g_00020_c_00001/00010.txt (stored 0%)\n",
            "  adding: content/gdrive/My Drive/project/agot_data/agot-24/labels/Pick up sauce/g_00020_c_00001/00011.txt (stored 0%)\n",
            "  adding: content/gdrive/My Drive/project/agot_data/agot-24/labels/Pick up sauce/g_00020_c_00001/00012.txt (stored 0%)\n",
            "  adding: content/gdrive/My Drive/project/agot_data/agot-24/labels/Pick up sauce/g_00020_c_00001/00013.txt (stored 0%)\n",
            "  adding: content/gdrive/My Drive/project/agot_data/agot-24/labels/Pick up sauce/g_00020_c_00001/00014.txt (stored 0%)\n",
            "  adding: content/gdrive/My Drive/project/agot_data/agot-24/labels/Pick up sauce/g_00020_c_00001/00015.txt (stored 0%)\n",
            "  adding: content/gdrive/My Drive/project/agot_data/agot-24/labels/Pick up sauce/g_00020_c_00001/00016.txt (stored 0%)\n",
            "  adding: content/gdrive/My Drive/project/agot_data/agot-24/labels/Pick up sauce/g_00020_c_00001/00017.txt (stored 0%)\n",
            "  adding: content/gdrive/My Drive/project/agot_data/agot-24/labels/Pick up sauce/g_00020_c_00001/00018.txt (stored 0%)\n",
            "  adding: content/gdrive/My Drive/project/agot_data/agot-24/labels/Pick up sauce/g_00020_c_00002/ (stored 0%)\n",
            "  adding: content/gdrive/My Drive/project/agot_data/agot-24/labels/Pick up sauce/g_00020_c_00002/00001.txt (stored 0%)\n",
            "  adding: content/gdrive/My Drive/project/agot_data/agot-24/labels/Pick up sauce/g_00020_c_00002/00002.txt (stored 0%)\n",
            "  adding: content/gdrive/My Drive/project/agot_data/agot-24/labels/Pick up sauce/g_00020_c_00002/00003.txt (stored 0%)\n",
            "  adding: content/gdrive/My Drive/project/agot_data/agot-24/labels/Pick up sauce/g_00020_c_00002/00004.txt (stored 0%)\n",
            "  adding: content/gdrive/My Drive/project/agot_data/agot-24/labels/Pick up sauce/g_00020_c_00002/00005.txt (stored 0%)\n",
            "  adding: content/gdrive/My Drive/project/agot_data/agot-24/labels/Pick up sauce/g_00020_c_00002/00006.txt (stored 0%)\n",
            "  adding: content/gdrive/My Drive/project/agot_data/agot-24/labels/Pick up sauce/g_00020_c_00002/00007.txt (stored 0%)\n",
            "  adding: content/gdrive/My Drive/project/agot_data/agot-24/labels/Pick up sauce/g_00020_c_00002/00008.txt (stored 0%)\n",
            "  adding: content/gdrive/My Drive/project/agot_data/agot-24/labels/Pick up sauce/g_00020_c_00002/00009.txt (stored 0%)\n",
            "  adding: content/gdrive/My Drive/project/agot_data/agot-24/labels/Pick up sauce/g_00020_c_00002/00010.txt (stored 0%)\n",
            "  adding: content/gdrive/My Drive/project/agot_data/agot-24/labels/Pick up sauce/g_00020_c_00002/00011.txt (stored 0%)\n",
            "  adding: content/gdrive/My Drive/project/agot_data/agot-24/labels/Pick up sauce/g_00020_c_00002/00012.txt (stored 0%)\n",
            "  adding: content/gdrive/My Drive/project/agot_data/agot-24/labels/Pick up sauce/g_00020_c_00002/00013.txt (stored 0%)\n",
            "  adding: content/gdrive/My Drive/project/agot_data/agot-24/labels/Pick up sauce/g_00020_c_00002/00014.txt (stored 0%)\n",
            "  adding: content/gdrive/My Drive/project/agot_data/agot-24/labels/Pick up sauce/g_00020_c_00002/00015.txt (stored 0%)\n",
            "  adding: content/gdrive/My Drive/project/agot_data/agot-24/labels/Pick up sauce/g_00020_c_00002/00016.txt (stored 0%)\n",
            "  adding: content/gdrive/My Drive/project/agot_data/agot-24/labels/Pick up sauce/g_00020_c_00002/00017.txt (stored 0%)\n",
            "  adding: content/gdrive/My Drive/project/agot_data/agot-24/labels/Pick up sauce/g_00020_c_00002/00018.txt (stored 0%)\n",
            "  adding: content/gdrive/My Drive/project/agot_data/agot-24/labels/Pick up sauce/g_00020_c_00002/00019.txt (stored 0%)\n",
            "  adding: content/gdrive/My Drive/project/agot_data/agot-24/labels/Pick up sauce/g_00020_c_00002/00020.txt (stored 0%)\n",
            "  adding: content/gdrive/My Drive/project/agot_data/agot-24/labels/Pick up sauce/g_00020_c_00002/00021.txt (stored 0%)\n",
            "  adding: content/gdrive/My Drive/project/agot_data/agot-24/labels/Pick up sauce/g_00020_c_00002/00022.txt (stored 0%)\n",
            "  adding: content/gdrive/My Drive/project/agot_data/agot-24/labels/Pick up sauce/g_00020_c_00003/ (stored 0%)\n",
            "  adding: content/gdrive/My Drive/project/agot_data/agot-24/labels/Pick up sauce/g_00020_c_00003/00001.txt (stored 0%)\n",
            "  adding: content/gdrive/My Drive/project/agot_data/agot-24/labels/Pick up sauce/g_00020_c_00003/00002.txt (stored 0%)\n",
            "  adding: content/gdrive/My Drive/project/agot_data/agot-24/labels/Pick up sauce/g_00020_c_00003/00003.txt (stored 0%)\n",
            "  adding: content/gdrive/My Drive/project/agot_data/agot-24/labels/Pick up sauce/g_00020_c_00003/00004.txt (stored 0%)\n",
            "  adding: content/gdrive/My Drive/project/agot_data/agot-24/labels/Pick up sauce/g_00020_c_00003/00005.txt (stored 0%)\n",
            "  adding: content/gdrive/My Drive/project/agot_data/agot-24/labels/Pick up sauce/g_00020_c_00003/00006.txt (stored 0%)\n",
            "  adding: content/gdrive/My Drive/project/agot_data/agot-24/labels/Pick up sauce/g_00020_c_00003/00007.txt (stored 0%)\n",
            "  adding: content/gdrive/My Drive/project/agot_data/agot-24/labels/Pick up sauce/g_00020_c_00003/00008.txt (stored 0%)\n",
            "  adding: content/gdrive/My Drive/project/agot_data/agot-24/labels/Pick up sauce/g_00020_c_00003/00009.txt (stored 0%)\n",
            "  adding: content/gdrive/My Drive/project/agot_data/agot-24/labels/Pick up sauce/g_00020_c_00003/00010.txt (stored 0%)\n",
            "  adding: content/gdrive/My Drive/project/agot_data/agot-24/labels/Pick up sauce/g_00020_c_00003/00011.txt (stored 0%)\n",
            "  adding: content/gdrive/My Drive/project/agot_data/agot-24/labels/Pick up sauce/g_00020_c_00003/00012.txt (stored 0%)\n",
            "  adding: content/gdrive/My Drive/project/agot_data/agot-24/labels/Pick up sauce/g_00020_c_00003/00013.txt (stored 0%)\n",
            "  adding: content/gdrive/My Drive/project/agot_data/agot-24/labels/Pick up sauce/g_00020_c_00003/00014.txt (stored 0%)\n",
            "  adding: content/gdrive/My Drive/project/agot_data/agot-24/labels/Pick up sauce/g_00020_c_00003/00015.txt (stored 0%)\n",
            "  adding: content/gdrive/My Drive/project/agot_data/agot-24/labels/Pick up sauce/g_00020_c_00003/00016.txt (stored 0%)\n",
            "  adding: content/gdrive/My Drive/project/agot_data/agot-24/labels/Pick up sauce/g_00020_c_00003/00017.txt (stored 0%)\n",
            "  adding: content/gdrive/My Drive/project/agot_data/agot-24/labels/Pick up sauce/g_00020_c_00003/00018.txt (stored 0%)\n",
            "  adding: content/gdrive/My Drive/project/agot_data/agot-24/labels/Pick up sauce/g_00020_c_00003/00019.txt (stored 0%)\n",
            "  adding: content/gdrive/My Drive/project/agot_data/agot-24/labels/Pick up sauce/g_00020_c_00003/00020.txt (stored 0%)\n",
            "  adding: content/gdrive/My Drive/project/agot_data/agot-24/labels/Pick up sauce/g_00020_c_00003/00021.txt (stored 0%)\n",
            "  adding: content/gdrive/My Drive/project/agot_data/agot-24/labels/Pick up sauce/g_00020_c_00004/ (stored 0%)\n",
            "  adding: content/gdrive/My Drive/project/agot_data/agot-24/labels/Pick up sauce/g_00020_c_00004/00001.txt (stored 0%)\n",
            "  adding: content/gdrive/My Drive/project/agot_data/agot-24/labels/Pick up sauce/g_00020_c_00004/00002.txt (stored 0%)\n",
            "  adding: content/gdrive/My Drive/project/agot_data/agot-24/labels/Pick up sauce/g_00020_c_00004/00003.txt (stored 0%)\n",
            "  adding: content/gdrive/My Drive/project/agot_data/agot-24/labels/Pick up sauce/g_00020_c_00004/00004.txt (stored 0%)\n",
            "  adding: content/gdrive/My Drive/project/agot_data/agot-24/labels/Pick up sauce/g_00020_c_00004/00005.txt (stored 0%)\n",
            "  adding: content/gdrive/My Drive/project/agot_data/agot-24/labels/Pick up sauce/g_00020_c_00004/00006.txt (stored 0%)\n",
            "  adding: content/gdrive/My Drive/project/agot_data/agot-24/labels/Pick up sauce/g_00020_c_00004/00007.txt (stored 0%)\n",
            "  adding: content/gdrive/My Drive/project/agot_data/agot-24/labels/Pick up sauce/g_00020_c_00004/00008.txt (stored 0%)\n",
            "  adding: content/gdrive/My Drive/project/agot_data/agot-24/labels/Pick up sauce/g_00020_c_00004/00009.txt (stored 0%)\n",
            "  adding: content/gdrive/My Drive/project/agot_data/agot-24/labels/Pick up sauce/g_00020_c_00004/00010.txt (stored 0%)\n",
            "  adding: content/gdrive/My Drive/project/agot_data/agot-24/labels/Pick up sauce/g_00020_c_00004/00011.txt (stored 0%)\n",
            "  adding: content/gdrive/My Drive/project/agot_data/agot-24/labels/Pick up sauce/g_00020_c_00004/00012.txt (stored 0%)\n",
            "  adding: content/gdrive/My Drive/project/agot_data/agot-24/labels/Pick up sauce/g_00020_c_00004/00013.txt (stored 0%)\n",
            "  adding: content/gdrive/My Drive/project/agot_data/agot-24/labels/Pick up sauce/g_00020_c_00004/00014.txt (stored 0%)\n",
            "  adding: content/gdrive/My Drive/project/agot_data/agot-24/labels/Pick up sauce/g_00020_c_00004/00015.txt (stored 0%)\n",
            "  adding: content/gdrive/My Drive/project/agot_data/agot-24/labels/Pick up sauce/g_00020_c_00004/00016.txt (stored 0%)\n",
            "  adding: content/gdrive/My Drive/project/agot_data/agot-24/labels/Pick up sauce/g_00020_c_00004/00017.txt (stored 0%)\n",
            "  adding: content/gdrive/My Drive/project/agot_data/agot-24/labels/Pick up sauce/g_00020_c_00004/00018.txt (stored 0%)\n",
            "  adding: content/gdrive/My Drive/project/agot_data/agot-24/labels/Pick up sauce/g_00020_c_00004/00019.txt (stored 0%)\n",
            "  adding: content/gdrive/My Drive/project/agot_data/agot-24/labels/Pick up sauce/g_00020_c_00004/00020.txt (stored 0%)\n",
            "  adding: content/gdrive/My Drive/project/agot_data/agot-24/labels/Pick up sauce/g_00020_c_00004/00021.txt (stored 0%)\n",
            "  adding: content/gdrive/My Drive/project/agot_data/agot-24/labels/Pick up sauce/g_00020_c_00005/ (stored 0%)\n",
            "  adding: content/gdrive/My Drive/project/agot_data/agot-24/labels/Pick up sauce/g_00020_c_00005/00001.txt (stored 0%)\n",
            "  adding: content/gdrive/My Drive/project/agot_data/agot-24/labels/Pick up sauce/g_00020_c_00005/00002.txt (stored 0%)\n",
            "  adding: content/gdrive/My Drive/project/agot_data/agot-24/labels/Pick up sauce/g_00020_c_00005/00003.txt (stored 0%)\n",
            "  adding: content/gdrive/My Drive/project/agot_data/agot-24/labels/Pick up sauce/g_00020_c_00005/00004.txt (stored 0%)\n",
            "  adding: content/gdrive/My Drive/project/agot_data/agot-24/labels/Pick up sauce/g_00020_c_00005/00005.txt (stored 0%)\n",
            "  adding: content/gdrive/My Drive/project/agot_data/agot-24/labels/Pick up sauce/g_00020_c_00005/00006.txt (stored 0%)\n",
            "  adding: content/gdrive/My Drive/project/agot_data/agot-24/labels/Pick up sauce/g_00020_c_00005/00007.txt (stored 0%)\n",
            "  adding: content/gdrive/My Drive/project/agot_data/agot-24/labels/Pick up sauce/g_00020_c_00005/00008.txt (stored 0%)\n",
            "  adding: content/gdrive/My Drive/project/agot_data/agot-24/labels/Pick up sauce/g_00020_c_00005/00009.txt (stored 0%)\n",
            "  adding: content/gdrive/My Drive/project/agot_data/agot-24/labels/Pick up sauce/g_00020_c_00005/00010.txt (stored 0%)\n",
            "  adding: content/gdrive/My Drive/project/agot_data/agot-24/labels/Pick up sauce/g_00020_c_00005/00011.txt (stored 0%)\n",
            "  adding: content/gdrive/My Drive/project/agot_data/agot-24/labels/Pick up sauce/g_00020_c_00005/00012.txt (stored 0%)\n",
            "  adding: content/gdrive/My Drive/project/agot_data/agot-24/labels/Pick up sauce/g_00020_c_00006/ (stored 0%)\n",
            "  adding: content/gdrive/My Drive/project/agot_data/agot-24/labels/Pick up sauce/g_00020_c_00006/00001.txt (stored 0%)\n",
            "  adding: content/gdrive/My Drive/project/agot_data/agot-24/labels/Pick up sauce/g_00020_c_00006/00002.txt (stored 0%)\n",
            "  adding: content/gdrive/My Drive/project/agot_data/agot-24/labels/Pick up sauce/g_00020_c_00006/00003.txt (stored 0%)\n",
            "  adding: content/gdrive/My Drive/project/agot_data/agot-24/labels/Pick up sauce/g_00020_c_00006/00004.txt (stored 0%)\n",
            "  adding: content/gdrive/My Drive/project/agot_data/agot-24/labels/Pick up sauce/g_00020_c_00006/00005.txt (stored 0%)\n",
            "  adding: content/gdrive/My Drive/project/agot_data/agot-24/labels/Pick up sauce/g_00020_c_00006/00006.txt (stored 0%)\n",
            "  adding: content/gdrive/My Drive/project/agot_data/agot-24/labels/Pick up sauce/g_00020_c_00006/00007.txt (stored 0%)\n",
            "  adding: content/gdrive/My Drive/project/agot_data/agot-24/labels/Pick up sauce/g_00020_c_00006/00008.txt (stored 0%)\n",
            "  adding: content/gdrive/My Drive/project/agot_data/agot-24/labels/Pick up sauce/g_00020_c_00006/00009.txt (stored 0%)\n",
            "  adding: content/gdrive/My Drive/project/agot_data/agot-24/labels/Pick up sauce/g_00020_c_00006/00010.txt (stored 0%)\n",
            "  adding: content/gdrive/My Drive/project/agot_data/agot-24/labels/Pick up sauce/g_00020_c_00006/00011.txt (stored 0%)\n",
            "  adding: content/gdrive/My Drive/project/agot_data/agot-24/labels/Pick up sauce/g_00020_c_00006/00012.txt (stored 0%)\n",
            "  adding: content/gdrive/My Drive/project/agot_data/agot-24/labels/Pick up sauce/g_00020_c_00006/00013.txt (stored 0%)\n",
            "  adding: content/gdrive/My Drive/project/agot_data/agot-24/labels/Pick up sauce/g_00020_c_00006/00014.txt (stored 0%)\n",
            "  adding: content/gdrive/My Drive/project/agot_data/agot-24/labels/Pick up sauce/g_00020_c_00006/00015.txt (stored 0%)\n",
            "  adding: content/gdrive/My Drive/project/agot_data/agot-24/labels/Pick up sauce/g_00020_c_00006/00016.txt (stored 0%)\n",
            "  adding: content/gdrive/My Drive/project/agot_data/agot-24/labels/Pick up sauce/g_00020_c_00006/00017.txt (stored 0%)\n",
            "  adding: content/gdrive/My Drive/project/agot_data/agot-24/labels/Pick up sauce/g_00020_c_00006/00018.txt (stored 0%)\n",
            "  adding: content/gdrive/My Drive/project/agot_data/agot-24/labels/Pick up sauce/g_00020_c_00006/00019.txt (stored 0%)\n",
            "  adding: content/gdrive/My Drive/project/agot_data/agot-24/labels/Pick up sauce/g_00020_c_00007/ (stored 0%)\n",
            "  adding: content/gdrive/My Drive/project/agot_data/agot-24/labels/Pick up sauce/g_00020_c_00007/00001.txt (stored 0%)\n",
            "  adding: content/gdrive/My Drive/project/agot_data/agot-24/labels/Pick up sauce/g_00020_c_00007/00002.txt (stored 0%)\n",
            "  adding: content/gdrive/My Drive/project/agot_data/agot-24/labels/Pick up sauce/g_00020_c_00007/00003.txt (stored 0%)\n",
            "  adding: content/gdrive/My Drive/project/agot_data/agot-24/labels/Pick up sauce/g_00020_c_00007/00004.txt (stored 0%)\n",
            "  adding: content/gdrive/My Drive/project/agot_data/agot-24/labels/Pick up sauce/g_00020_c_00007/00005.txt (stored 0%)\n",
            "  adding: content/gdrive/My Drive/project/agot_data/agot-24/labels/Pick up sauce/g_00020_c_00007/00006.txt (stored 0%)\n",
            "  adding: content/gdrive/My Drive/project/agot_data/agot-24/labels/Pick up sauce/g_00020_c_00007/00007.txt (stored 0%)\n",
            "  adding: content/gdrive/My Drive/project/agot_data/agot-24/labels/Pick up sauce/g_00020_c_00007/00008.txt (deflated 3%)\n",
            "  adding: content/gdrive/My Drive/project/agot_data/agot-24/labels/Pick up sauce/g_00020_c_00007/00009.txt (deflated 3%)\n",
            "  adding: content/gdrive/My Drive/project/agot_data/agot-24/labels/Pick up sauce/g_00020_c_00007/00010.txt (stored 0%)\n",
            "  adding: content/gdrive/My Drive/project/agot_data/agot-24/labels/Pick up sauce/g_00020_c_00007/00011.txt (stored 0%)\n",
            "  adding: content/gdrive/My Drive/project/agot_data/agot-24/labels/Pick up sauce/g_00020_c_00007/00012.txt (stored 0%)\n",
            "  adding: content/gdrive/My Drive/project/agot_data/agot-24/labels/Pick up sauce/g_00020_c_00007/00013.txt (stored 0%)\n",
            "  adding: content/gdrive/My Drive/project/agot_data/agot-24/labels/Pick up sauce/g_00020_c_00007/00014.txt (stored 0%)\n",
            "  adding: content/gdrive/My Drive/project/agot_data/agot-24/labels/Pick up sauce/g_00020_c_00007/00015.txt (stored 0%)\n",
            "  adding: content/gdrive/My Drive/project/agot_data/agot-24/labels/Pick up sauce/g_00020_c_00007/00016.txt (stored 0%)\n",
            "  adding: content/gdrive/My Drive/project/agot_data/agot-24/labels/Pick up sauce/g_00020_c_00007/00017.txt (stored 0%)\n",
            "  adding: content/gdrive/My Drive/project/agot_data/agot-24/labels/Pick up sauce/g_00020_c_00007/00018.txt (stored 0%)\n",
            "  adding: content/gdrive/My Drive/project/agot_data/agot-24/labels/Pick up sauce/g_00020_c_00007/00019.txt (stored 0%)\n",
            "  adding: content/gdrive/My Drive/project/agot_data/agot-24/labels/Pick up sauce/g_00020_c_00007/00020.txt (stored 0%)\n",
            "  adding: content/gdrive/My Drive/project/agot_data/agot-24/labels/Pick up sauce/g_00020_c_00007/00021.txt (stored 0%)\n",
            "  adding: content/gdrive/My Drive/project/agot_data/agot-24/labels/Pick up sauce/g_00020_c_00007/00022.txt (stored 0%)\n",
            "  adding: content/gdrive/My Drive/project/agot_data/agot-24/labels/Pick up sauce/g_00020_c_00007/00023.txt (stored 0%)\n",
            "  adding: content/gdrive/My Drive/project/agot_data/agot-24/labels/Pick up sauce/g_00020_c_00008/ (stored 0%)\n",
            "  adding: content/gdrive/My Drive/project/agot_data/agot-24/labels/Pick up sauce/g_00020_c_00008/00001.txt (stored 0%)\n",
            "  adding: content/gdrive/My Drive/project/agot_data/agot-24/labels/Pick up sauce/g_00020_c_00008/00002.txt (stored 0%)\n",
            "  adding: content/gdrive/My Drive/project/agot_data/agot-24/labels/Pick up sauce/g_00020_c_00008/00003.txt (stored 0%)\n",
            "  adding: content/gdrive/My Drive/project/agot_data/agot-24/labels/Pick up sauce/g_00020_c_00008/00004.txt (stored 0%)\n",
            "  adding: content/gdrive/My Drive/project/agot_data/agot-24/labels/Pick up sauce/g_00020_c_00008/00005.txt (stored 0%)\n",
            "  adding: content/gdrive/My Drive/project/agot_data/agot-24/labels/Pick up sauce/g_00020_c_00008/00006.txt (stored 0%)\n",
            "  adding: content/gdrive/My Drive/project/agot_data/agot-24/labels/Pick up sauce/g_00020_c_00008/00007.txt (stored 0%)\n",
            "  adding: content/gdrive/My Drive/project/agot_data/agot-24/labels/Pick up sauce/g_00020_c_00008/00008.txt (stored 0%)\n",
            "  adding: content/gdrive/My Drive/project/agot_data/agot-24/labels/Pick up sauce/g_00020_c_00008/00009.txt (stored 0%)\n",
            "  adding: content/gdrive/My Drive/project/agot_data/agot-24/labels/Pick up sauce/g_00020_c_00009/ (stored 0%)\n",
            "  adding: content/gdrive/My Drive/project/agot_data/agot-24/labels/Pick up sauce/g_00020_c_00009/00001.txt (stored 0%)\n",
            "  adding: content/gdrive/My Drive/project/agot_data/agot-24/labels/Pick up sauce/g_00020_c_00009/00002.txt (stored 0%)\n",
            "  adding: content/gdrive/My Drive/project/agot_data/agot-24/labels/Pick up sauce/g_00020_c_00009/00003.txt (deflated 3%)\n",
            "  adding: content/gdrive/My Drive/project/agot_data/agot-24/labels/Pick up sauce/g_00020_c_00009/00004.txt (stored 0%)\n",
            "  adding: content/gdrive/My Drive/project/agot_data/agot-24/labels/Pick up sauce/g_00020_c_00009/00005.txt (stored 0%)\n",
            "  adding: content/gdrive/My Drive/project/agot_data/agot-24/labels/Pick up sauce/g_00020_c_00009/00006.txt (stored 0%)\n",
            "  adding: content/gdrive/My Drive/project/agot_data/agot-24/labels/Pick up sauce/g_00020_c_00009/00007.txt (stored 0%)\n",
            "  adding: content/gdrive/My Drive/project/agot_data/agot-24/labels/Pick up sauce/g_00020_c_00009/00008.txt (deflated 3%)\n",
            "  adding: content/gdrive/My Drive/project/agot_data/agot-24/labels/Pick up sauce/g_00020_c_00009/00009.txt (stored 0%)\n",
            "  adding: content/gdrive/My Drive/project/agot_data/agot-24/labels/Pick up sauce/g_00020_c_00009/00010.txt (stored 0%)\n",
            "  adding: content/gdrive/My Drive/project/agot_data/agot-24/labels/Pick up sauce/g_00020_c_00009/00011.txt (stored 0%)\n",
            "  adding: content/gdrive/My Drive/project/agot_data/agot-24/labels/Pick up sauce/g_00020_c_00009/00012.txt (stored 0%)\n",
            "  adding: content/gdrive/My Drive/project/agot_data/agot-24/labels/Pick up sauce/g_00020_c_00009/00013.txt (stored 0%)\n",
            "  adding: content/gdrive/My Drive/project/agot_data/agot-24/labels/Pick up sauce/g_00020_c_00009/00014.txt (stored 0%)\n",
            "  adding: content/gdrive/My Drive/project/agot_data/agot-24/labels/Pick up sauce/g_00020_c_00009/00015.txt (stored 0%)\n",
            "  adding: content/gdrive/My Drive/project/agot_data/agot-24/labels/Pick up sauce/g_00020_c_00009/00016.txt (stored 0%)\n",
            "  adding: content/gdrive/My Drive/project/agot_data/agot-24/labels/Pick up sauce/g_00020_c_00009/00017.txt (stored 0%)\n",
            "  adding: content/gdrive/My Drive/project/agot_data/agot-24/labels/Pick up sauce/g_00020_c_00009/00018.txt (stored 0%)\n",
            "  adding: content/gdrive/My Drive/project/agot_data/agot-24/labels/Pick up sauce/g_00020_c_00009/00019.txt (stored 0%)\n",
            "  adding: content/gdrive/My Drive/project/agot_data/agot-24/labels/Pick up sauce/g_00020_c_00009/00020.txt (stored 0%)\n",
            "  adding: content/gdrive/My Drive/project/agot_data/agot-24/labels/Pick up sauce/g_00020_c_00009/00021.txt (stored 0%)\n",
            "  adding: content/gdrive/My Drive/project/agot_data/agot-24/labels/Pick up sauce/g_00020_c_00009/00022.txt (stored 0%)\n",
            "  adding: content/gdrive/My Drive/project/agot_data/agot-24/labels/Pick up sauce/g_00020_c_00009/00023.txt (stored 0%)\n",
            "  adding: content/gdrive/My Drive/project/agot_data/agot-24/labels/Pick up sauce/g_00020_c_00010/ (stored 0%)\n",
            "  adding: content/gdrive/My Drive/project/agot_data/agot-24/labels/Pick up sauce/g_00020_c_00010/00001.txt (stored 0%)\n",
            "  adding: content/gdrive/My Drive/project/agot_data/agot-24/labels/Pick up sauce/g_00020_c_00010/00002.txt (stored 0%)\n",
            "  adding: content/gdrive/My Drive/project/agot_data/agot-24/labels/Pick up sauce/g_00020_c_00010/00003.txt (stored 0%)\n",
            "  adding: content/gdrive/My Drive/project/agot_data/agot-24/labels/Pick up sauce/g_00020_c_00010/00004.txt (stored 0%)\n",
            "  adding: content/gdrive/My Drive/project/agot_data/agot-24/labels/Pick up sauce/g_00020_c_00010/00005.txt (stored 0%)\n",
            "  adding: content/gdrive/My Drive/project/agot_data/agot-24/labels/Pick up sauce/g_00020_c_00010/00006.txt (stored 0%)\n",
            "  adding: content/gdrive/My Drive/project/agot_data/agot-24/labels/Pick up sauce/g_00020_c_00010/00007.txt (stored 0%)\n",
            "  adding: content/gdrive/My Drive/project/agot_data/agot-24/labels/Pick up sauce/g_00020_c_00010/00008.txt (stored 0%)\n",
            "  adding: content/gdrive/My Drive/project/agot_data/agot-24/labels/Pick up sauce/g_00020_c_00010/00009.txt (stored 0%)\n",
            "  adding: content/gdrive/My Drive/project/agot_data/agot-24/labels/Pick up sauce/g_00020_c_00010/00010.txt (stored 0%)\n",
            "  adding: content/gdrive/My Drive/project/agot_data/agot-24/labels/Pick up sauce/g_00020_c_00010/00011.txt (stored 0%)\n",
            "  adding: content/gdrive/My Drive/project/agot_data/agot-24/labels/Pick up sauce/g_00020_c_00010/00012.txt (stored 0%)\n",
            "  adding: content/gdrive/My Drive/project/agot_data/agot-24/labels/Pick up sauce/g_00020_c_00011/ (stored 0%)\n",
            "  adding: content/gdrive/My Drive/project/agot_data/agot-24/labels/Pick up sauce/g_00020_c_00011/00001.txt (stored 0%)\n",
            "  adding: content/gdrive/My Drive/project/agot_data/agot-24/labels/Pick up sauce/g_00020_c_00011/00002.txt (stored 0%)\n",
            "  adding: content/gdrive/My Drive/project/agot_data/agot-24/labels/Pick up sauce/g_00020_c_00011/00003.txt (stored 0%)\n",
            "  adding: content/gdrive/My Drive/project/agot_data/agot-24/labels/Pick up sauce/g_00020_c_00011/00004.txt (stored 0%)\n",
            "  adding: content/gdrive/My Drive/project/agot_data/agot-24/labels/Pick up sauce/g_00020_c_00011/00005.txt (stored 0%)\n",
            "  adding: content/gdrive/My Drive/project/agot_data/agot-24/labels/Pick up sauce/g_00020_c_00011/00006.txt (stored 0%)\n",
            "  adding: content/gdrive/My Drive/project/agot_data/agot-24/labels/Pick up sauce/g_00020_c_00011/00007.txt (stored 0%)\n",
            "  adding: content/gdrive/My Drive/project/agot_data/agot-24/labels/Pick up sauce/g_00020_c_00011/00008.txt (stored 0%)\n",
            "  adding: content/gdrive/My Drive/project/agot_data/agot-24/labels/Pick up sauce/g_00020_c_00011/00009.txt (stored 0%)\n",
            "  adding: content/gdrive/My Drive/project/agot_data/agot-24/labels/Pick up sauce/g_00020_c_00011/00010.txt (stored 0%)\n",
            "  adding: content/gdrive/My Drive/project/agot_data/agot-24/labels/Pick up sauce/g_00020_c_00011/00011.txt (stored 0%)\n",
            "  adding: content/gdrive/My Drive/project/agot_data/agot-24/labels/Pick up sauce/g_00020_c_00011/00012.txt (stored 0%)\n",
            "  adding: content/gdrive/My Drive/project/agot_data/agot-24/labels/Pick up sauce/g_00020_c_00012/ (stored 0%)\n",
            "  adding: content/gdrive/My Drive/project/agot_data/agot-24/labels/Pick up sauce/g_00020_c_00012/00001.txt (stored 0%)\n",
            "  adding: content/gdrive/My Drive/project/agot_data/agot-24/labels/Pick up sauce/g_00020_c_00012/00002.txt (stored 0%)\n",
            "  adding: content/gdrive/My Drive/project/agot_data/agot-24/labels/Pick up sauce/g_00020_c_00012/00003.txt (stored 0%)\n",
            "  adding: content/gdrive/My Drive/project/agot_data/agot-24/labels/Pick up sauce/g_00020_c_00012/00004.txt (stored 0%)\n",
            "  adding: content/gdrive/My Drive/project/agot_data/agot-24/labels/Pick up sauce/g_00020_c_00012/00005.txt (stored 0%)\n",
            "  adding: content/gdrive/My Drive/project/agot_data/agot-24/labels/Pick up sauce/g_00020_c_00012/00006.txt (stored 0%)\n",
            "  adding: content/gdrive/My Drive/project/agot_data/agot-24/labels/Pick up sauce/g_00020_c_00012/00007.txt (stored 0%)\n",
            "  adding: content/gdrive/My Drive/project/agot_data/agot-24/labels/Pick up sauce/g_00020_c_00012/00008.txt (stored 0%)\n",
            "  adding: content/gdrive/My Drive/project/agot_data/agot-24/labels/Pick up sauce/g_00020_c_00012/00009.txt (stored 0%)\n",
            "  adding: content/gdrive/My Drive/project/agot_data/agot-24/labels/Pick up sauce/g_00020_c_00012/00010.txt (stored 0%)\n",
            "  adding: content/gdrive/My Drive/project/agot_data/agot-24/labels/Pick up sauce/g_00020_c_00012/00011.txt (stored 0%)\n",
            "  adding: content/gdrive/My Drive/project/agot_data/agot-24/labels/Pick up sauce/g_00020_c_00012/00012.txt (stored 0%)\n",
            "  adding: content/gdrive/My Drive/project/agot_data/agot-24/labels/Pick up sauce/g_00020_c_00012/00013.txt (stored 0%)\n",
            "  adding: content/gdrive/My Drive/project/agot_data/agot-24/labels/Pick up sauce/g_00020_c_00012/00014.txt (stored 0%)\n",
            "  adding: content/gdrive/My Drive/project/agot_data/agot-24/labels/Pick up sauce/g_00020_c_00012/00015.txt (stored 0%)\n",
            "  adding: content/gdrive/My Drive/project/agot_data/agot-24/labels/Pick up sauce/g_00020_c_00012/00016.txt (stored 0%)\n",
            "  adding: content/gdrive/My Drive/project/agot_data/agot-24/labels/Pick up sauce/g_00020_c_00012/00017.txt (stored 0%)\n",
            "  adding: content/gdrive/My Drive/project/agot_data/agot-24/labels/Pick up sauce/g_00020_c_00013/ (stored 0%)\n",
            "  adding: content/gdrive/My Drive/project/agot_data/agot-24/labels/Pick up sauce/g_00020_c_00013/00001.txt (stored 0%)\n",
            "  adding: content/gdrive/My Drive/project/agot_data/agot-24/labels/Pick up sauce/g_00020_c_00013/00002.txt (stored 0%)\n",
            "  adding: content/gdrive/My Drive/project/agot_data/agot-24/labels/Pick up sauce/g_00020_c_00013/00003.txt (stored 0%)\n",
            "  adding: content/gdrive/My Drive/project/agot_data/agot-24/labels/Pick up sauce/g_00020_c_00013/00004.txt (stored 0%)\n",
            "  adding: content/gdrive/My Drive/project/agot_data/agot-24/labels/Pick up sauce/g_00020_c_00013/00005.txt (stored 0%)\n",
            "  adding: content/gdrive/My Drive/project/agot_data/agot-24/labels/Pick up sauce/g_00020_c_00013/00006.txt (stored 0%)\n",
            "  adding: content/gdrive/My Drive/project/agot_data/agot-24/labels/Pick up sauce/g_00020_c_00013/00007.txt (stored 0%)\n",
            "  adding: content/gdrive/My Drive/project/agot_data/agot-24/labels/Pick up sauce/g_00020_c_00014/ (stored 0%)\n",
            "  adding: content/gdrive/My Drive/project/agot_data/agot-24/labels/Pick up sauce/g_00020_c_00014/00001.txt (stored 0%)\n",
            "  adding: content/gdrive/My Drive/project/agot_data/agot-24/labels/Pick up sauce/g_00020_c_00014/00002.txt (stored 0%)\n",
            "  adding: content/gdrive/My Drive/project/agot_data/agot-24/labels/Pick up sauce/g_00020_c_00014/00003.txt (stored 0%)\n",
            "  adding: content/gdrive/My Drive/project/agot_data/agot-24/labels/Pick up sauce/g_00020_c_00014/00004.txt (stored 0%)\n",
            "  adding: content/gdrive/My Drive/project/agot_data/agot-24/labels/Pick up sauce/g_00020_c_00014/00005.txt (stored 0%)\n",
            "  adding: content/gdrive/My Drive/project/agot_data/agot-24/labels/Pick up sauce/g_00020_c_00014/00006.txt (stored 0%)\n",
            "  adding: content/gdrive/My Drive/project/agot_data/agot-24/labels/Pick up sauce/g_00020_c_00015/ (stored 0%)\n",
            "  adding: content/gdrive/My Drive/project/agot_data/agot-24/labels/Pick up sauce/g_00020_c_00015/00001.txt (stored 0%)\n",
            "  adding: content/gdrive/My Drive/project/agot_data/agot-24/labels/Pick up sauce/g_00020_c_00015/00002.txt (stored 0%)\n",
            "  adding: content/gdrive/My Drive/project/agot_data/agot-24/labels/Pick up sauce/g_00020_c_00015/00003.txt (stored 0%)\n",
            "  adding: content/gdrive/My Drive/project/agot_data/agot-24/labels/Pick up sauce/g_00020_c_00015/00004.txt (stored 0%)\n",
            "  adding: content/gdrive/My Drive/project/agot_data/agot-24/labels/Pick up sauce/g_00020_c_00015/00005.txt (stored 0%)\n",
            "  adding: content/gdrive/My Drive/project/agot_data/agot-24/labels/Pick up sauce/g_00020_c_00015/00006.txt (stored 0%)\n",
            "  adding: content/gdrive/My Drive/project/agot_data/agot-24/labels/Pick up sauce/g_00020_c_00015/00007.txt (stored 0%)\n",
            "  adding: content/gdrive/My Drive/project/agot_data/agot-24/labels/Pick up sauce/g_00020_c_00015/00008.txt (stored 0%)\n",
            "  adding: content/gdrive/My Drive/project/agot_data/agot-24/labels/Pick up sauce/g_00020_c_00015/00009.txt (stored 0%)\n",
            "  adding: content/gdrive/My Drive/project/agot_data/agot-24/labels/Pick up sauce/g_00020_c_00015/00010.txt (stored 0%)\n",
            "  adding: content/gdrive/My Drive/project/agot_data/agot-24/labels/Pick up sauce/g_00020_c_00015/00011.txt (stored 0%)\n",
            "  adding: content/gdrive/My Drive/project/agot_data/agot-24/labels/Pick up sauce/g_00020_c_00015/00012.txt (stored 0%)\n",
            "  adding: content/gdrive/My Drive/project/agot_data/agot-24/labels/Pick up sauce/g_00020_c_00015/00013.txt (stored 0%)\n",
            "  adding: content/gdrive/My Drive/project/agot_data/agot-24/labels/Pick up sauce/g_00020_c_00015/00014.txt (stored 0%)\n",
            "  adding: content/gdrive/My Drive/project/agot_data/agot-24/labels/Pick up sauce/g_00020_c_00015/00015.txt (stored 0%)\n",
            "  adding: content/gdrive/My Drive/project/agot_data/agot-24/labels/Pick up sauce/g_00020_c_00016/ (stored 0%)\n",
            "  adding: content/gdrive/My Drive/project/agot_data/agot-24/labels/Pick up sauce/g_00020_c_00016/00001.txt (stored 0%)\n",
            "  adding: content/gdrive/My Drive/project/agot_data/agot-24/labels/Pick up sauce/g_00020_c_00016/00002.txt (stored 0%)\n",
            "  adding: content/gdrive/My Drive/project/agot_data/agot-24/labels/Pick up sauce/g_00020_c_00016/00003.txt (stored 0%)\n",
            "  adding: content/gdrive/My Drive/project/agot_data/agot-24/labels/Pick up sauce/g_00020_c_00016/00004.txt (stored 0%)\n",
            "  adding: content/gdrive/My Drive/project/agot_data/agot-24/labels/Pick up sauce/g_00020_c_00016/00005.txt (stored 0%)\n",
            "  adding: content/gdrive/My Drive/project/agot_data/agot-24/labels/Pick up sauce/g_00020_c_00016/00006.txt (stored 0%)\n",
            "  adding: content/gdrive/My Drive/project/agot_data/agot-24/labels/Pick up sauce/g_00020_c_00016/00007.txt (stored 0%)\n",
            "  adding: content/gdrive/My Drive/project/agot_data/agot-24/labels/Pick up sauce/g_00020_c_00016/00008.txt (deflated 3%)\n",
            "  adding: content/gdrive/My Drive/project/agot_data/agot-24/labels/Pick up sauce/g_00020_c_00016/00009.txt (stored 0%)\n",
            "  adding: content/gdrive/My Drive/project/agot_data/agot-24/labels/Pick up sauce/g_00020_c_00016/00010.txt (stored 0%)\n",
            "  adding: content/gdrive/My Drive/project/agot_data/agot-24/labels/Pick up sauce/g_00020_c_00016/00011.txt (stored 0%)\n",
            "  adding: content/gdrive/My Drive/project/agot_data/agot-24/labels/Pick up sauce/g_00020_c_00016/00012.txt (stored 0%)\n",
            "  adding: content/gdrive/My Drive/project/agot_data/agot-24/labels/Pick up sauce/g_00020_c_00016/00013.txt (stored 0%)\n",
            "  adding: content/gdrive/My Drive/project/agot_data/agot-24/labels/Pick up sauce/g_00020_c_00016/00014.txt (stored 0%)\n",
            "  adding: content/gdrive/My Drive/project/agot_data/agot-24/labels/Pick up sauce/g_00020_c_00016/00015.txt (stored 0%)\n",
            "  adding: content/gdrive/My Drive/project/agot_data/agot-24/labels/Pick up sauce/g_00020_c_00016/00016.txt (stored 0%)\n",
            "  adding: content/gdrive/My Drive/project/agot_data/agot-24/labels/Pick up sauce/g_00020_c_00016/00017.txt (stored 0%)\n",
            "  adding: content/gdrive/My Drive/project/agot_data/agot-24/labels/Pick up sauce/g_00020_c_00016/00018.txt (stored 0%)\n",
            "  adding: content/gdrive/My Drive/project/agot_data/agot-24/labels/Pick up sauce/g_00020_c_00016/00019.txt (stored 0%)\n",
            "  adding: content/gdrive/My Drive/project/agot_data/agot-24/labels/Pick up sauce/g_00020_c_00016/00020.txt (stored 0%)\n",
            "  adding: content/gdrive/My Drive/project/agot_data/agot-24/labels/Pick up sauce/g_00020_c_00016/00021.txt (stored 0%)\n",
            "  adding: content/gdrive/My Drive/project/agot_data/agot-24/labels/Pick up sauce/g_00020_c_00016/00022.txt (stored 0%)\n",
            "  adding: content/gdrive/My Drive/project/agot_data/agot-24/labels/Pick up sauce/g_00020_c_00016/00023.txt (stored 0%)\n",
            "  adding: content/gdrive/My Drive/project/agot_data/agot-24/labels/Pick up sauce/g_00020_c_00016/00024.txt (stored 0%)\n",
            "  adding: content/gdrive/My Drive/project/agot_data/agot-24/labels/Pick up sauce/g_00020_c_00016/00025.txt (stored 0%)\n",
            "  adding: content/gdrive/My Drive/project/agot_data/agot-24/labels/Pick up sauce/g_00020_c_00016/00026.txt (stored 0%)\n",
            "  adding: content/gdrive/My Drive/project/agot_data/agot-24/labels/Pick up sauce/g_00020_c_00016/00027.txt (stored 0%)\n",
            "  adding: content/gdrive/My Drive/project/agot_data/agot-24/labels/Pick up sauce/g_00020_c_00016/00028.txt (deflated 9%)\n",
            "  adding: content/gdrive/My Drive/project/agot_data/agot-24/labels/Pick up sauce/g_00020_c_00016/00029.txt (stored 0%)\n",
            "  adding: content/gdrive/My Drive/project/agot_data/agot-24/labels/Pick up sauce/g_00020_c_00016/00030.txt"
          ],
          "name": "stdout"
        }
      ]
    },
    {
      "cell_type": "code",
      "metadata": {
        "id": "ugHzdP-gIjf5"
      },
      "source": [
        ""
      ],
      "execution_count": null,
      "outputs": []
    },
    {
      "cell_type": "markdown",
      "metadata": {
        "id": "W5pZfi_0Jr_T"
      },
      "source": [
        "## Custom anchor box"
      ]
    },
    {
      "cell_type": "code",
      "metadata": {
        "id": "AZkKXaLZKYZ3"
      },
      "source": [
        "cutoff = get_Nclasses_cutoff(label_path, 5)\n",
        "bounding_boxes = read_labels(label_path, cutoff)"
      ],
      "execution_count": 48,
      "outputs": []
    },
    {
      "cell_type": "code",
      "metadata": {
        "id": "cOSF3vuxKu5H",
        "outputId": "11c7e248-6b52-427e-d2a6-495c0a174be8",
        "colab": {
          "base_uri": "https://localhost:8080/",
          "height": 369
        }
      },
      "source": [
        "sns.distplot(np.array(bounding_boxes)[:,0])\n",
        "sns.distplot(np.array(bounding_boxes)[:,1])"
      ],
      "execution_count": 50,
      "outputs": [
        {
          "output_type": "stream",
          "text": [
            "/usr/local/lib/python3.6/dist-packages/seaborn/distributions.py:2551: FutureWarning: `distplot` is a deprecated function and will be removed in a future version. Please adapt your code to use either `displot` (a figure-level function with similar flexibility) or `histplot` (an axes-level function for histograms).\n",
            "  warnings.warn(msg, FutureWarning)\n",
            "/usr/local/lib/python3.6/dist-packages/seaborn/distributions.py:2551: FutureWarning: `distplot` is a deprecated function and will be removed in a future version. Please adapt your code to use either `displot` (a figure-level function with similar flexibility) or `histplot` (an axes-level function for histograms).\n",
            "  warnings.warn(msg, FutureWarning)\n"
          ],
          "name": "stderr"
        },
        {
          "output_type": "execute_result",
          "data": {
            "text/plain": [
              "<matplotlib.axes._subplots.AxesSubplot at 0x7f9b96f34dd8>"
            ]
          },
          "metadata": {
            "tags": []
          },
          "execution_count": 50
        },
        {
          "output_type": "display_data",
          "data": {
            "image/png": "[encoded data removed]",
            "text/plain": [
              "<Figure size 432x288 with 1 Axes>"
            ]
          },
          "metadata": {
            "tags": [],
            "needs_background": "light"
          }
        }
      ]
    },
    {
      "cell_type": "code",
      "metadata": {
        "id": "etOuSCHKYJ2z"
      },
      "source": [
        "K = 9\n",
        "T = 20\n",
        "clustering_means = []\n",
        "clustering_histories = []"
      ],
      "execution_count": 51,
      "outputs": []
    },
    {
      "cell_type": "code",
      "metadata": {
        "id": "3cqxRwe0YiyZ"
      },
      "source": [
        "cluster_mean = initialize(K)\n",
        "#clustering_means.append(cluster_mean)\n",
        "\n",
        "for t in range(T):\n",
        "    #print('t = ', t)\n",
        "    cluster = find_clusters(bounding_boxes, cluster_mean, K)\n",
        "    clustering_histories.append(cluster)\n",
        "    cluster_mean = new_cluster(bounding_boxes, cluster, cluster_mean, K)\n",
        "    clustering_means.append(cluster_mean)\n",
        "clustering_means"
      ],
      "execution_count": 57,
      "outputs": []
    },
    {
      "cell_type": "code",
      "metadata": {
        "id": "0bNRWdmpYkI2",
        "outputId": "19c3be41-028c-42a1-c79d-fd0768c11752",
        "colab": {
          "base_uri": "https://localhost:8080/"
        }
      },
      "source": [
        "for t in range(T):\n",
        "    num = []\n",
        "    for k in range(K):\n",
        "        num.append(sum(clustering_histories[t] == k))\n",
        "        \n",
        "    print(num)"
      ],
      "execution_count": 58,
      "outputs": [
        {
          "output_type": "stream",
          "text": [
            "[0, 9479, 0, 0, 189, 3186, 0, 9846, 0]\n",
            "[0, 0, 17066, 0, 0, 0, 0, 4811, 823]\n",
            "[5445, 0, 4988, 1250, 0, 0, 11017, 0, 0]\n",
            "[116, 0, 0, 0, 815, 9975, 11794, 0, 0]\n",
            "[365, 0, 0, 0, 92, 12485, 0, 9758, 0]\n",
            "[96, 0, 9753, 0, 85, 0, 0, 12728, 38]\n",
            "[154, 0, 12724, 126, 1388, 0, 8308, 0, 0]\n",
            "[916, 0, 0, 0, 79, 8459, 13246, 0, 0]\n",
            "[274, 0, 0, 0, 1251, 13051, 0, 8124, 0]\n",
            "[0, 0, 8334, 0, 255, 0, 0, 13197, 914]\n",
            "[643, 0, 13401, 0, 0, 8384, 0, 0, 272]\n",
            "[560, 0, 0, 0, 0, 13113, 0, 8383, 644]\n",
            "[0, 0, 0, 0, 644, 8383, 0, 13113, 560]\n",
            "[311, 328, 0, 0, 560, 13115, 0, 8386, 0]\n",
            "[0, 1252, 0, 0, 639, 8274, 0, 12535, 0]\n",
            "[0, 0, 0, 0, 560, 13034, 0, 8468, 638]\n",
            "[0, 0, 0, 0, 639, 8467, 0, 13025, 569]\n",
            "[0, 0, 0, 0, 569, 13025, 0, 8467, 639]\n",
            "[0, 0, 0, 0, 639, 8467, 0, 13025, 569]\n",
            "[0, 0, 0, 0, 569, 13025, 0, 8467, 639]\n"
          ],
          "name": "stdout"
        }
      ]
    },
    {
      "cell_type": "code",
      "metadata": {
        "id": "1Ur_CgINYuqX"
      },
      "source": [
        "def plot_clustering(clustering, K):\n",
        "    \n",
        "    time = len(clustering)\n",
        "    \n",
        "    cluster_history = []\n",
        "    for k in range(K):\n",
        "        w = []\n",
        "        h = []\n",
        "        for i in range(time):\n",
        "            w.append(clustering[i][k][0])\n",
        "            h.append(clustering[i][k][1])\n",
        "            \n",
        "        cluster_history.append([w,h])\n",
        "        \n",
        "    return cluster_history\n",
        "            \n",
        "\n",
        "def plot_history(cluster_history, K):\n",
        "    for k in range(K):\n",
        "        plt.figure(k)\n",
        "        plt.plot(cluster_history[k][0] )\n",
        "        plt.plot( cluster_history[k][1])\n",
        "        plt.legend(['width', 'height'])\n",
        "    \n",
        "    \n",
        "mean_history = plot_clustering(clustering_means, K)\n",
        "plot_history(mean_history, K)"
      ],
      "execution_count": null,
      "outputs": []
    },
    {
      "cell_type": "code",
      "metadata": {
        "id": "kehz2bt2YvSC"
      },
      "source": [
        "def color(k):\n",
        "    if k == 0:\n",
        "        return 'b'\n",
        "    if k == 1:\n",
        "        return 'r'\n",
        "    if k == 2:\n",
        "        return 'g'\n",
        "    if k == 3:\n",
        "        return 'm'\n",
        "    if k == 4:\n",
        "        return 'y'"
      ],
      "execution_count": 59,
      "outputs": []
    },
    {
      "cell_type": "code",
      "metadata": {
        "id": "8tdhST0iYxbd"
      },
      "source": [
        "def plot_clusters_random(clustering_means, clustering_histories, bounding_boxes, K):\n",
        "    \n",
        "    time = len(clustering_means)\n",
        "    boxes = len(clustering_histories[0])\n",
        "    \n",
        "    for t in range(time):\n",
        "        print(t)\n",
        "        plt.figure(t, figsize=(10,5))\n",
        "        \n",
        "        for c in range(1000):\n",
        "            i = random.randint(0, boxes-1)\n",
        "            plt.plot(bounding_boxes[i][0], bounding_boxes[i][1], color(clustering_histories[t][i]) + '.')\n",
        "        \n",
        "        for k in range(K):\n",
        "            plt.plot(clustering_means[t][k][0], clustering_means[t][k][1], 'kD')\n",
        "        \n",
        "    \n",
        "plot_clusters_random(clustering_means, clustering_histories, bounding_boxes, K)\n",
        "            "
      ],
      "execution_count": null,
      "outputs": []
    },
    {
      "cell_type": "code",
      "metadata": {
        "id": "dlcCFl9MYzQM"
      },
      "source": [
        "def plot_clusters(clustering_means, clustering_histories, bounding_boxes, K):\n",
        "    \n",
        "    time = len(clustering_means)\n",
        "    boxes = len(clustering_histories[0])\n",
        "    \n",
        "    for t in range(time):\n",
        "        plt.figure(t, figsize=(10,5))\n",
        "        for i in range(boxes):\n",
        "            plt.plot(bounding_boxes[i][0], bounding_boxes[i][1], color(clustering_histories[t][i]) + '.')\n",
        "            if i == 1000:\n",
        "                break\n",
        "        \n",
        "        for k in range(K):\n",
        "            plt.plot(clustering_means[t][k][0], clustering_means[t][k][1], 'kD')\n",
        "        \n",
        "    \n",
        "plot_clusters(clustering_means, clustering_histories, bounding_boxes, K)\n",
        "            "
      ],
      "execution_count": null,
      "outputs": []
    },
    {
      "cell_type": "code",
      "metadata": {
        "id": "VlS6JkS2Y03X",
        "outputId": "dc2ab29b-1fbf-44d5-e410-a70447d73bdb",
        "colab": {
          "base_uri": "https://localhost:8080/"
        }
      },
      "source": [
        "kmeans5 = KMeans(n_clusters=9)\n",
        "y_kmeans5 = kmeans5.fit_predict(bounding_boxes)\n",
        "print(y_kmeans5)\n",
        "\n",
        "kmeans5.cluster_centers_"
      ],
      "execution_count": 29,
      "outputs": [
        {
          "output_type": "stream",
          "text": [
            "[1 1 1 ... 1 1 1]\n"
          ],
          "name": "stdout"
        },
        {
          "output_type": "execute_result",
          "data": {
            "text/plain": [
              "array([[0.13880871, 0.11813891],\n",
              "       [0.05859694, 0.12502333],\n",
              "       [0.16955217, 0.17614289],\n",
              "       [0.05480948, 0.10309278],\n",
              "       [0.09716216, 0.12562846],\n",
              "       [0.15394468, 0.13841293],\n",
              "       [0.14325073, 0.16790051],\n",
              "       [0.08931931, 0.0823151 ],\n",
              "       [0.05374269, 0.08098185]])"
            ]
          },
          "metadata": {
            "tags": []
          },
          "execution_count": 29
        }
      ]
    },
    {
      "cell_type": "code",
      "metadata": {
        "id": "E1Kbsb23Y2G3",
        "outputId": "b81ca85f-02ee-415d-d7ba-45c2c1e859f4",
        "colab": {
          "base_uri": "https://localhost:8080/"
        }
      },
      "source": [
        "for k in range(6):\n",
        "    print('k = ', k, ': ', sum(y_kmeans5 == k))\n",
        "    "
      ],
      "execution_count": 30,
      "outputs": [
        {
          "output_type": "stream",
          "text": [
            "k =  0 :  2379\n",
            "k =  1 :  3025\n",
            "k =  2 :  2636\n",
            "k =  3 :  4839\n",
            "k =  4 :  1635\n",
            "k =  5 :  1607\n"
          ],
          "name": "stdout"
        }
      ]
    },
    {
      "cell_type": "code",
      "metadata": {
        "id": "DQld0HsdY3bY",
        "outputId": "70cdc105-333a-4c98-c2a8-fc2554151b13",
        "colab": {
          "base_uri": "https://localhost:8080/",
          "height": 295
        }
      },
      "source": [
        "Error =[]\n",
        "for i in range(1, 11):\n",
        "    kmeans = KMeans(n_clusters = i).fit(bounding_boxes)\n",
        "    kmeans.fit(bounding_boxes)\n",
        "    Error.append(kmeans.inertia_)\n",
        "import matplotlib.pyplot as plt\n",
        "plt.plot(range(1, 11), Error)\n",
        "plt.title('Elbow method')\n",
        "plt.xlabel('No of clusters')\n",
        "plt.ylabel('Error')\n",
        "plt.show()"
      ],
      "execution_count": 31,
      "outputs": [
        {
          "output_type": "display_data",
          "data": {
            "image/png": "[encoded data removed]",
            "text/plain": [
              "<Figure size 432x288 with 1 Axes>"
            ]
          },
          "metadata": {
            "tags": [],
            "needs_background": "light"
          }
        }
      ]
    },
    {
      "cell_type": "code",
      "metadata": {
        "id": "mAQ_DwrFY4xs",
        "outputId": "a3d65545-fc15-40d3-fc5e-f47cb24ed27a",
        "colab": {
          "base_uri": "https://localhost:8080/",
          "height": 282
        }
      },
      "source": [
        "plt.scatter(np.array(bounding_boxes)[:,0], np.array(bounding_boxes)[:,1], c = y_kmeans5, cmap = 'rainbow')"
      ],
      "execution_count": 32,
      "outputs": [
        {
          "output_type": "execute_result",
          "data": {
            "text/plain": [
              "<matplotlib.collections.PathCollection at 0x7f9b96e157b8>"
            ]
          },
          "metadata": {
            "tags": []
          },
          "execution_count": 32
        },
        {
          "output_type": "display_data",
          "data": {
            "image/png": "[encoded data removed]",
            "text/plain": [
              "<Figure size 432x288 with 1 Axes>"
            ]
          },
          "metadata": {
            "tags": [],
            "needs_background": "light"
          }
        }
      ]
    },
    {
      "cell_type": "code",
      "metadata": {
        "id": "73fhGKxyY6VU",
        "outputId": "ad6bb6ee-520e-4cdc-fbcf-838ed3ddcf8f",
        "colab": {
          "base_uri": "https://localhost:8080/"
        }
      },
      "source": [
        "np.array(bounding_boxes).shape"
      ],
      "execution_count": 60,
      "outputs": [
        {
          "output_type": "execute_result",
          "data": {
            "text/plain": [
              "(22700, 2)"
            ]
          },
          "metadata": {
            "tags": []
          },
          "execution_count": 60
        }
      ]
    },
    {
      "cell_type": "code",
      "metadata": {
        "id": "DMrCvMgZY6Tn"
      },
      "source": [
        ""
      ],
      "execution_count": null,
      "outputs": []
    }
  ]
}